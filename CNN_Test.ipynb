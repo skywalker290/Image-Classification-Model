{
  "nbformat": 4,
  "nbformat_minor": 0,
  "metadata": {
    "colab": {
      "provenance": [],
      "authorship_tag": "ABX9TyP5uXf4qpAf4KMy24AQfRcF",
      "include_colab_link": true
    },
    "kernelspec": {
      "name": "python3",
      "display_name": "Python 3"
    },
    "language_info": {
      "name": "python"
    },
    "widgets": {
      "application/vnd.jupyter.widget-state+json": {
        "b6a4e6116a2e4098affcce340de8f5ad": {
          "model_module": "@jupyter-widgets/controls",
          "model_name": "FileUploadModel",
          "model_module_version": "1.5.0",
          "state": {
            "_counter": 2,
            "_dom_classes": [],
            "_model_module": "@jupyter-widgets/controls",
            "_model_module_version": "1.5.0",
            "_model_name": "FileUploadModel",
            "_view_count": null,
            "_view_module": "@jupyter-widgets/controls",
            "_view_module_version": "1.5.0",
            "_view_name": "FileUploadView",
            "accept": ".jpg",
            "button_style": "",
            "data": [
              null
            ],
            "description": "Upload",
            "description_tooltip": null,
            "disabled": false,
            "error": "",
            "icon": "upload",
            "layout": "IPY_MODEL_d5848aac4df74d7bb297beb95344ea6c",
            "metadata": [
              {
                "name": "testimage1.jpg",
                "type": "image/jpeg",
                "size": 8254,
                "lastModified": 1691788173893
              }
            ],
            "multiple": false,
            "style": "IPY_MODEL_1c2f3ba4d078482b98e43d0926bd5705"
          }
        },
        "d5848aac4df74d7bb297beb95344ea6c": {
          "model_module": "@jupyter-widgets/base",
          "model_name": "LayoutModel",
          "model_module_version": "1.2.0",
          "state": {
            "_model_module": "@jupyter-widgets/base",
            "_model_module_version": "1.2.0",
            "_model_name": "LayoutModel",
            "_view_count": null,
            "_view_module": "@jupyter-widgets/base",
            "_view_module_version": "1.2.0",
            "_view_name": "LayoutView",
            "align_content": null,
            "align_items": null,
            "align_self": null,
            "border": null,
            "bottom": null,
            "display": null,
            "flex": null,
            "flex_flow": null,
            "grid_area": null,
            "grid_auto_columns": null,
            "grid_auto_flow": null,
            "grid_auto_rows": null,
            "grid_column": null,
            "grid_gap": null,
            "grid_row": null,
            "grid_template_areas": null,
            "grid_template_columns": null,
            "grid_template_rows": null,
            "height": null,
            "justify_content": null,
            "justify_items": null,
            "left": null,
            "margin": null,
            "max_height": null,
            "max_width": null,
            "min_height": null,
            "min_width": null,
            "object_fit": null,
            "object_position": null,
            "order": null,
            "overflow": null,
            "overflow_x": null,
            "overflow_y": null,
            "padding": null,
            "right": null,
            "top": null,
            "visibility": null,
            "width": null
          }
        },
        "1c2f3ba4d078482b98e43d0926bd5705": {
          "model_module": "@jupyter-widgets/controls",
          "model_name": "ButtonStyleModel",
          "model_module_version": "1.5.0",
          "state": {
            "_model_module": "@jupyter-widgets/controls",
            "_model_module_version": "1.5.0",
            "_model_name": "ButtonStyleModel",
            "_view_count": null,
            "_view_module": "@jupyter-widgets/base",
            "_view_module_version": "1.2.0",
            "_view_name": "StyleView",
            "button_color": null,
            "font_weight": ""
          }
        },
        "49e1f07aa73b46eaa0759bfac29da9c4": {
          "model_module": "@jupyter-widgets/controls",
          "model_name": "ButtonModel",
          "model_module_version": "1.5.0",
          "state": {
            "_dom_classes": [],
            "_model_module": "@jupyter-widgets/controls",
            "_model_module_version": "1.5.0",
            "_model_name": "ButtonModel",
            "_view_count": null,
            "_view_module": "@jupyter-widgets/controls",
            "_view_module_version": "1.5.0",
            "_view_name": "ButtonView",
            "button_style": "",
            "description": "Predict",
            "disabled": false,
            "icon": "",
            "layout": "IPY_MODEL_a3191dbecf0f461099186adc4a794d28",
            "style": "IPY_MODEL_5fd4e5df7dfa4d009ca75ae23102904b",
            "tooltip": ""
          }
        },
        "a3191dbecf0f461099186adc4a794d28": {
          "model_module": "@jupyter-widgets/base",
          "model_name": "LayoutModel",
          "model_module_version": "1.2.0",
          "state": {
            "_model_module": "@jupyter-widgets/base",
            "_model_module_version": "1.2.0",
            "_model_name": "LayoutModel",
            "_view_count": null,
            "_view_module": "@jupyter-widgets/base",
            "_view_module_version": "1.2.0",
            "_view_name": "LayoutView",
            "align_content": null,
            "align_items": null,
            "align_self": null,
            "border": null,
            "bottom": null,
            "display": null,
            "flex": null,
            "flex_flow": null,
            "grid_area": null,
            "grid_auto_columns": null,
            "grid_auto_flow": null,
            "grid_auto_rows": null,
            "grid_column": null,
            "grid_gap": null,
            "grid_row": null,
            "grid_template_areas": null,
            "grid_template_columns": null,
            "grid_template_rows": null,
            "height": null,
            "justify_content": null,
            "justify_items": null,
            "left": null,
            "margin": null,
            "max_height": null,
            "max_width": null,
            "min_height": null,
            "min_width": null,
            "object_fit": null,
            "object_position": null,
            "order": null,
            "overflow": null,
            "overflow_x": null,
            "overflow_y": null,
            "padding": null,
            "right": null,
            "top": null,
            "visibility": null,
            "width": null
          }
        },
        "5fd4e5df7dfa4d009ca75ae23102904b": {
          "model_module": "@jupyter-widgets/controls",
          "model_name": "ButtonStyleModel",
          "model_module_version": "1.5.0",
          "state": {
            "_model_module": "@jupyter-widgets/controls",
            "_model_module_version": "1.5.0",
            "_model_name": "ButtonStyleModel",
            "_view_count": null,
            "_view_module": "@jupyter-widgets/base",
            "_view_module_version": "1.2.0",
            "_view_name": "StyleView",
            "button_color": null,
            "font_weight": ""
          }
        },
        "a3ceb5f80b344b7ba9dbcfba775780de": {
          "model_module": "@jupyter-widgets/output",
          "model_name": "OutputModel",
          "model_module_version": "1.0.0",
          "state": {
            "_dom_classes": [],
            "_model_module": "@jupyter-widgets/output",
            "_model_module_version": "1.0.0",
            "_model_name": "OutputModel",
            "_view_count": null,
            "_view_module": "@jupyter-widgets/output",
            "_view_module_version": "1.0.0",
            "_view_name": "OutputView",
            "layout": "IPY_MODEL_c73aebb01b0c4691861eea350dc76844",
            "msg_id": "",
            "outputs": [
              {
                "output_type": "stream",
                "name": "stdout",
                "text": [
                  "\r1/1 [==============================] - ETA: 0s"
                ]
              },
              {
                "output_type": "stream",
                "name": "stdout",
                "text": [
                  "\b\b\b\b\b\b\b\b\b\b\b\b\b\b\b\b\b\b\b\b\b\b\b\b\b\b\b\b\b\b\b\b\b\b\b\b\b\b\b\b\b\b\b\b\b\b\r1/1 [==============================] - 0s 82ms/step\n"
                ]
              },
              {
                "output_type": "display_data",
                "data": {
                  "text/plain": "<PIL.Image.Image image mode=RGB size=28x28>",
                  "image/png": "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\n"
                },
                "metadata": {}
              },
              {
                "output_type": "stream",
                "name": "stdout",
                "text": [
                  "Predicted Class: Pullover\n"
                ]
              },
              {
                "output_type": "stream",
                "name": "stdout",
                "text": [
                  "\r1/1 [==============================] - ETA: 0s"
                ]
              },
              {
                "output_type": "stream",
                "name": "stdout",
                "text": [
                  "\b\b\b\b\b\b\b\b\b\b\b\b\b\b\b\b\b\b\b\b\b\b\b\b\b\b\b\b\b\b\b\b\b\b\b\b\b\b\b\b\b\b\b\b\b\b\r1/1 [==============================] - 0s 19ms/step\n"
                ]
              },
              {
                "output_type": "display_data",
                "data": {
                  "text/plain": "<PIL.Image.Image image mode=RGB size=28x28>",
                  "image/png": "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\n"
                },
                "metadata": {}
              },
              {
                "output_type": "stream",
                "name": "stdout",
                "text": [
                  "Predicted Class: Dress\n"
                ]
              }
            ]
          }
        },
        "c73aebb01b0c4691861eea350dc76844": {
          "model_module": "@jupyter-widgets/base",
          "model_name": "LayoutModel",
          "model_module_version": "1.2.0",
          "state": {
            "_model_module": "@jupyter-widgets/base",
            "_model_module_version": "1.2.0",
            "_model_name": "LayoutModel",
            "_view_count": null,
            "_view_module": "@jupyter-widgets/base",
            "_view_module_version": "1.2.0",
            "_view_name": "LayoutView",
            "align_content": null,
            "align_items": null,
            "align_self": null,
            "border": null,
            "bottom": null,
            "display": null,
            "flex": null,
            "flex_flow": null,
            "grid_area": null,
            "grid_auto_columns": null,
            "grid_auto_flow": null,
            "grid_auto_rows": null,
            "grid_column": null,
            "grid_gap": null,
            "grid_row": null,
            "grid_template_areas": null,
            "grid_template_columns": null,
            "grid_template_rows": null,
            "height": null,
            "justify_content": null,
            "justify_items": null,
            "left": null,
            "margin": null,
            "max_height": null,
            "max_width": null,
            "min_height": null,
            "min_width": null,
            "object_fit": null,
            "object_position": null,
            "order": null,
            "overflow": null,
            "overflow_x": null,
            "overflow_y": null,
            "padding": null,
            "right": null,
            "top": null,
            "visibility": null,
            "width": null
          }
        }
      }
    }
  },
  "cells": [
    {
      "cell_type": "markdown",
      "metadata": {
        "id": "view-in-github",
        "colab_type": "text"
      },
      "source": [
        "<a href=\"https://colab.research.google.com/github/skywalker290/Image-Classification-Model/blob/main/CNN_Test.ipynb\" target=\"_parent\"><img src=\"https://colab.research.google.com/assets/colab-badge.svg\" alt=\"Open In Colab\"/></a>"
      ]
    },
    {
      "cell_type": "code",
      "source": [
        "!wget https://github.com/skywalker290/Image-Classification-Model/raw/main/CNN.h5"
      ],
      "metadata": {
        "colab": {
          "base_uri": "https://localhost:8080/"
        },
        "id": "qcbmIUg0bQhJ",
        "outputId": "ccd60402-83fa-426b-e00f-55e43a3f50cf"
      },
      "execution_count": 2,
      "outputs": [
        {
          "output_type": "stream",
          "name": "stdout",
          "text": [
            "--2023-08-10 21:07:46--  https://github.com/skywalker290/Image-Classification-Model/raw/main/CNN.h5\n",
            "Resolving github.com (github.com)... 140.82.114.4\n",
            "Connecting to github.com (github.com)|140.82.114.4|:443... connected.\n",
            "HTTP request sent, awaiting response... 302 Found\n",
            "Location: https://raw.githubusercontent.com/skywalker290/Image-Classification-Model/main/CNN.h5 [following]\n",
            "--2023-08-10 21:07:47--  https://raw.githubusercontent.com/skywalker290/Image-Classification-Model/main/CNN.h5\n",
            "Resolving raw.githubusercontent.com (raw.githubusercontent.com)... 185.199.108.133, 185.199.109.133, 185.199.110.133, ...\n",
            "Connecting to raw.githubusercontent.com (raw.githubusercontent.com)|185.199.108.133|:443... connected.\n",
            "HTTP request sent, awaiting response... 200 OK\n",
            "Length: 3555392 (3.4M) [application/octet-stream]\n",
            "Saving to: ‘CNN.h5’\n",
            "\n",
            "CNN.h5              100%[===================>]   3.39M  --.-KB/s    in 0.01s   \n",
            "\n",
            "2023-08-10 21:07:47 (256 MB/s) - ‘CNN.h5’ saved [3555392/3555392]\n",
            "\n"
          ]
        }
      ]
    },
    {
      "cell_type": "code",
      "execution_count": 16,
      "metadata": {
        "colab": {
          "base_uri": "https://localhost:8080/",
          "height": 241,
          "referenced_widgets": [
            "b6a4e6116a2e4098affcce340de8f5ad",
            "d5848aac4df74d7bb297beb95344ea6c",
            "1c2f3ba4d078482b98e43d0926bd5705",
            "49e1f07aa73b46eaa0759bfac29da9c4",
            "a3191dbecf0f461099186adc4a794d28",
            "5fd4e5df7dfa4d009ca75ae23102904b",
            "a3ceb5f80b344b7ba9dbcfba775780de",
            "c73aebb01b0c4691861eea350dc76844"
          ]
        },
        "id": "VYJHZivwW8FW",
        "outputId": "fa770221-4063-4c03-bade-6c0ffb8cf600"
      },
      "outputs": [
        {
          "output_type": "display_data",
          "data": {
            "text/plain": [
              "FileUpload(value={}, accept='.jpg', description='Upload')"
            ],
            "application/vnd.jupyter.widget-view+json": {
              "version_major": 2,
              "version_minor": 0,
              "model_id": "b6a4e6116a2e4098affcce340de8f5ad"
            }
          },
          "metadata": {}
        },
        {
          "output_type": "display_data",
          "data": {
            "text/plain": [
              "Button(description='Predict', style=ButtonStyle())"
            ],
            "application/vnd.jupyter.widget-view+json": {
              "version_major": 2,
              "version_minor": 0,
              "model_id": "49e1f07aa73b46eaa0759bfac29da9c4"
            }
          },
          "metadata": {}
        },
        {
          "output_type": "display_data",
          "data": {
            "text/plain": [
              "Output()"
            ],
            "application/vnd.jupyter.widget-view+json": {
              "version_major": 2,
              "version_minor": 0,
              "model_id": "a3ceb5f80b344b7ba9dbcfba775780de"
            }
          },
          "metadata": {}
        }
      ],
      "source": [
        "import tensorflow as tf\n",
        "from tensorflow import keras\n",
        "import numpy as np\n",
        "import IPython.display as display\n",
        "from ipywidgets import FileUpload, Output, Button\n",
        "from PIL import Image\n",
        "import io\n",
        "\n",
        "# Load the trained model\n",
        "model = keras.models.load_model('CNN.h5')  # Replace with your model file\n",
        "\n",
        "# Create an upload button\n",
        "upload_button = FileUpload(accept='.jpg', multiple=False)\n",
        "\n",
        "# Create an output area for displaying predictions\n",
        "output_area = Output()\n",
        "\n",
        "# Define a function to handle image upload and prediction\n",
        "\n",
        "class_labels=['T-shirt/top','Trouser','Pullover','Dress','coat','sandal','shirt','sneakers','bag','ankle boot']\n",
        "def predict_image(change):\n",
        "    with output_area:\n",
        "        if len(upload_button.data) > 0:\n",
        "            image_data = upload_button.data[-1]\n",
        "            image = Image.open(io.BytesIO(image_data))\n",
        "\n",
        "            # Resize the image to match the model's input shape (28x28)\n",
        "            image = image.resize((28, 28))\n",
        "\n",
        "            # Convert the image to grayscale and then to a numpy array\n",
        "            image_array = np.array(image.convert('L'))\n",
        "\n",
        "            # Reshape the image array to match the model's input shape\n",
        "            image_array = image_array.reshape(1, 28, 28, 1)\n",
        "\n",
        "            # Preprocess the image\n",
        "            image_array = image_array.astype('float32') / 255.0\n",
        "\n",
        "            prediction = model.predict(image_array)\n",
        "            predicted_class = np.argmax(prediction)\n",
        "            class_name = class_labels[predicted_class]  # Get the class name\n",
        "\n",
        "            display.display(image)\n",
        "            print(f'Predicted Class: {class_name}')\n",
        "\n",
        "\n",
        "\n",
        "# Create a predict button\n",
        "predict_button = Button(description='Predict')\n",
        "\n",
        "# Attach the predict_image function to the predict button\n",
        "predict_button.on_click(predict_image)\n",
        "\n",
        "# Display the widgets\n",
        "display.display(upload_button)\n",
        "display.display(predict_button)\n",
        "display.display(output_area)\n"
      ]
    },
    {
      "cell_type": "code",
      "source": [],
      "metadata": {
        "id": "QfCvTSnubWCl"
      },
      "execution_count": null,
      "outputs": []
    }
  ]
}